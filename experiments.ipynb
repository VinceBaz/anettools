{
 "cells": [
  {
   "cell_type": "code",
   "execution_count": 13,
   "metadata": {},
   "outputs": [],
   "source": [
    "import numpy as np\n",
    "from assortativity import measures as m\n",
    "from scipy.stats import pearsonr"
   ]
  },
  {
   "cell_type": "code",
   "execution_count": 17,
   "metadata": {},
   "outputs": [],
   "source": [
    "A = np.array([[0,1,1,1],\n",
    "              [1,0,1,1],\n",
    "              [1,1,0,0],\n",
    "              [1,1,0,0]])\n",
    "\n",
    "M1 = np.array([1,2,3,4])\n",
    "M2 = np.array([4,3,5,1])\n"
   ]
  },
  {
   "cell_type": "code",
   "execution_count": 22,
   "metadata": {},
   "outputs": [],
   "source": [
    "lam1m2, wm1m2 = m.localAssort(A, (M1, M2), pr=0.5)\n",
    "lam2m1, wm2m1 = m.localAssort(A, (M2, M1), pr=0.5)\n",
    "lam1, wm1 = m.localAssort(A, M1, pr=0.5)\n",
    "lam2, wm2 = m.localAssort(A, M2, pr=0.5)"
   ]
  },
  {
   "cell_type": "code",
   "execution_count": 23,
   "metadata": {},
   "outputs": [
    {
     "name": "stdout",
     "output_type": "stream",
     "text": [
      "[-0.41919107 -0.42372616 -0.64370433 -0.53292952]\n",
      "[-0.10838006 -0.05195899  0.05756903 -0.12973948]\n",
      "[-0.58338747 -0.52485612 -0.70232253 -0.59687624]\n",
      "[-0.07772359 -0.04110611  0.0518211  -0.11675253]\n"
     ]
    }
   ],
   "source": [
    "print(lam1m2)\n",
    "print(lam2m1)\n",
    "print(lam1)\n",
    "print(lam2)"
   ]
  },
  {
   "cell_type": "code",
   "execution_count": 20,
   "metadata": {},
   "outputs": [
    {
     "data": {
      "text/plain": [
       "-0.5702479338842976"
      ]
     },
     "execution_count": 20,
     "metadata": {},
     "output_type": "execute_result"
    }
   ],
   "source": [
    "X = [1,1,1,2,2,2,3,3,4,4]\n",
    "Y = [2,3,4,1,3,4,1,2,1,2]\n",
    "pearsonr(X,Y)[0]"
   ]
  },
  {
   "cell_type": "code",
   "execution_count": 21,
   "metadata": {},
   "outputs": [
    {
     "data": {
      "text/plain": [
       "0.5702479338842976"
      ]
     },
     "execution_count": 21,
     "metadata": {},
     "output_type": "execute_result"
    }
   ],
   "source": [
    "X = [1,1,1,2,2,2,3,3,4,4]\n",
    "Y = [3,2,1,4,2,1,4,3,4,3]\n",
    "pearsonr(X,Y)[0]"
   ]
  }
 ],
 "metadata": {
  "kernelspec": {
   "display_name": "Python 3",
   "language": "python",
   "name": "python3"
  },
  "language_info": {
   "codemirror_mode": {
    "name": "ipython",
    "version": 3
   },
   "file_extension": ".py",
   "mimetype": "text/x-python",
   "name": "python",
   "nbconvert_exporter": "python",
   "pygments_lexer": "ipython3",
   "version": "3.7.3"
  }
 },
 "nbformat": 4,
 "nbformat_minor": 2
}
