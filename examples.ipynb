{
 "cells": [
  {
   "cell_type": "code",
   "execution_count": 1,
   "metadata": {},
   "outputs": [],
   "source": [
    "import numpy as np\n",
    "from assortativity import measures as m\n",
    "from assortativity import tools\n",
    "import networkx as nx\n",
    "import bct\n",
    "\n",
    "import matplotlib.pyplot as plt\n",
    "%matplotlib inline"
   ]
  },
  {
   "cell_type": "markdown",
   "metadata": {},
   "source": [
    "## Random Networks\n",
    "\n",
    "An Erdos-Renyi random networks with probability of connection of 0.0618625, and 400 nodes"
   ]
  },
  {
   "cell_type": "code",
   "execution_count": 2,
   "metadata": {
    "scrolled": false
   },
   "outputs": [],
   "source": [
    "#Generate the random network\n",
    "A = nx.to_numpy_array(nx.generators.random_graphs.erdos_renyi_graph(400, 0.02))"
   ]
  },
  {
   "cell_type": "code",
   "execution_count": 3,
   "metadata": {},
   "outputs": [],
   "source": [
    "#Compute local assortativity (Degree)\n",
    "la_er_deg,_ = m.localAssort(A, np.sum(A, axis=0))"
   ]
  },
  {
   "cell_type": "code",
   "execution_count": 6,
   "metadata": {
    "scrolled": false
   },
   "outputs": [
    {
     "data": {
      "text/plain": [
       "Text(0, 0.5, 'Node Degree')"
      ]
     },
     "execution_count": 6,
     "metadata": {},
     "output_type": "execute_result"
    },
    {
     "data": {
      "image/png": "[encoded data removed]",
      "text/plain": [
       "<Figure size 432x288 with 1 Axes>"
      ]
     },
     "metadata": {
      "needs_background": "light"
     },
     "output_type": "display_data"
    }
   ],
   "source": [
    "#plot results\n",
    "deg_er = np.sum(A, axis=0)\n",
    "\n",
    "plt.figure()\n",
    "plt.scatter(la_er_deg, deg_er)\n",
    "plt.xlabel(\"Local Assortativity (Degree)\")\n",
    "plt.ylabel(\"Node Degree\")"
   ]
  },
  {
   "cell_type": "markdown",
   "metadata": {},
   "source": [
    "## Brain Structural Connectome\n",
    "\n",
    "Consensus structural connectome generated from data made available by the Human Connectome Project. The connectome uses the Schaeffer Parcellation (Schaeffer, 2018), with 400 nodes."
   ]
  },
  {
   "cell_type": "code",
   "execution_count": 7,
   "metadata": {},
   "outputs": [
    {
     "name": "stdout",
     "output_type": "stream",
     "text": [
      "Degree Global Assortativity: 0.14490312279638912\n",
      "T1wT2w Global Assortativity: 0.3590191249643664\n"
     ]
    }
   ],
   "source": [
    "#Load the \"Structural Connectome\" from data folder, and convert to binary\n",
    "SC = np.load(\"data/SC.npy\")\n",
    "SC[SC>0] = 1\n",
    "\n",
    "#Load T1wT2w information available for this connectome\n",
    "T1wT2w = np.load(\"data/T1wT2w.npy\")\n",
    "\n",
    "#Compute Global Assortativity\n",
    "ga_deg = m.globalAssort(SC, np.sum(SC, axis=0))  #Degree Attribute\n",
    "ga_mye = m.globalAssort(SC, T1wT2w)              #T1w/T2w Attribute\n",
    "\n",
    "#Compute Local Assortativity (Using pagerank, with probability of restart of 0.99)\n",
    "la_deg,w = m.localAssort(SC, np.sum(SC, axis=0), pr=0.99)  #Degree Attribute\n",
    "la_mye,_ = m.localAssort(SC, T1wT2w, pr=0.99)              #T1w/T2w Attribute\n",
    "\n",
    "#Print results\n",
    "print(\"Degree Global Assortativity: \"+str(ga_deg))\n",
    "print(\"T1wT2w Global Assortativity: \"+str(ga_mye))"
   ]
  }
 ],
 "metadata": {
  "kernelspec": {
   "display_name": "Python 3",
   "language": "python",
   "name": "python3"
  },
  "language_info": {
   "codemirror_mode": {
    "name": "ipython",
    "version": 3
   },
   "file_extension": ".py",
   "mimetype": "text/x-python",
   "name": "python",
   "nbconvert_exporter": "python",
   "pygments_lexer": "ipython3",
   "version": "3.7.3"
  }
 },
 "nbformat": 4,
 "nbformat_minor": 2
}
