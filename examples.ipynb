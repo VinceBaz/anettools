{
 "cells": [
  {
   "cell_type": "code",
   "execution_count": 2,
   "metadata": {},
   "outputs": [],
   "source": [
    "import numpy as np\n",
    "import networkx as nx\n",
    "import assortativity as a\n",
    "\n",
    "import matplotlib.pyplot as plt\n",
    "%matplotlib inline"
   ]
  },
  {
   "cell_type": "markdown",
   "metadata": {},
   "source": [
    "## Brain Structural Connectome\n",
    "\n",
    "Consensus structural connectome generated from data made available by the Human Connectome Project. The connectome uses the Schaeffer Parcellation (Schaeffer, 2018), with 400 nodes."
   ]
  },
  {
   "cell_type": "code",
   "execution_count": 5,
   "metadata": {},
   "outputs": [
    {
     "name": "stdout",
     "output_type": "stream",
     "text": [
      "Degree Global Assortativity: 0.14490312279638912\n",
      "T1wT2w Global Assortativity: 0.3590191249643664\n"
     ]
    }
   ],
   "source": [
    "#Load the \"Structural Connectome\" from data folder, and convert to binary\n",
    "SC = np.load(\"data/SC.npy\")\n",
    "SC[SC>0] = 1\n",
    "#Load T1wT2w information available for this connectome\n",
    "T1wT2w = np.load(\"data/T1wT2w.npy\")\n",
    "\n",
    "#Compute Global Assortativity, for the degree attribute\n",
    "ga_deg = a.globalAssort(SC, np.sum(SC, axis=0))\n",
    "#Compute Global Assortativity, for the T1wT2w attribute\n",
    "ga_mye = a.globalAssort(SC, T1wT2w)\n",
    "\n",
    "#Print results\n",
    "print(\"Degree Global Assortativity: \"+str(ga_deg))\n",
    "print(\"T1wT2w Global Assortativity: \"+str(ga_mye))"
   ]
  }
 ],
 "metadata": {
  "kernelspec": {
   "display_name": "Python 3",
   "language": "python",
   "name": "python3"
  },
  "language_info": {
   "codemirror_mode": {
    "name": "ipython",
    "version": 3
   },
   "file_extension": ".py",
   "mimetype": "text/x-python",
   "name": "python",
   "nbconvert_exporter": "python",
   "pygments_lexer": "ipython3",
   "version": "3.7.3"
  }
 },
 "nbformat": 4,
 "nbformat_minor": 2
}
